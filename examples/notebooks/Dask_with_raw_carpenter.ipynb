{
 "cells": [
  {
   "attachments": {},
   "cell_type": "markdown",
   "metadata": {},
   "source": [
    "# Example use of carpenter (raw modules) with Dask\n",
    "## Sequence definition\n",
    "1. Load in data\n",
    "2. Define a new variable\n",
    "3. Fill a binned dataframe\n",
    "5. apply a cut\n",
    "6. fill another binned dataframe"
   ]
  },
  {
   "cell_type": "code",
   "execution_count": 1,
   "metadata": {},
   "outputs": [],
   "source": [
    "%reload_ext autoreload\n",
    "%autoreload 2\n"
   ]
  },
  {
   "cell_type": "code",
   "execution_count": 14,
   "metadata": {},
   "outputs": [],
   "source": [
    "from fast_carpenter.data_import import Uproot4DataImport\n",
    "from fast_carpenter.data_mapping import create_mapping\n",
    "\n",
    "DATA_FILE = \"../examples/tutorial/HEPTutorial/files/data.root\"\n",
    "OUTPUT_DIR = \"../examples/tutorial/output\"\n",
    "\n",
    "data_import = Uproot4DataImport(None)\n",
    "root_file = data_import.open([DATA_FILE])\n",
    "data = create_mapping(\n",
    "    root_file,\n",
    "    treenames=[\"events\"],\n",
    "    methods=\"uproot4\",\n",
    "    connector=\"tree\",\n",
    ")\n",
    "data.add_dataset_info(\"data\", \"data\")\n"
   ]
  },
  {
   "cell_type": "code",
   "execution_count": 15,
   "metadata": {},
   "outputs": [
    {
     "name": "stdout",
     "output_type": "stream",
     "text": [
      "NElectron\n",
      "NJet\n",
      "NMuon\n",
      "NPhoton\n",
      "NPrimaryVertices\n",
      "{}\n",
      "ConfigProxy(dataset=DatasetConfig(name='data', eventtype='data'))\n"
     ]
    }
   ],
   "source": [
    "# content of root_file\n",
    "for k in sorted(data.keys()):\n",
    "    if k.startswith(\"N\"):\n",
    "        print(k)\n",
    "\n",
    "print(data_import.config)\n",
    "print(data.config)"
   ]
  },
  {
   "cell_type": "code",
   "execution_count": 16,
   "metadata": {},
   "outputs": [],
   "source": [
    "from fast_carpenter.define import Define\n",
    "define_jet_pt = Define(\n",
    "    name=\"CreateJetPt\",\n",
    "    out_dir=OUTPUT_DIR,\n",
    "    variables=[{\"Jet_Pt\": \"sqrt(Jet_Px**2 + Jet_Py**2)\"}],\n",
    "\n",
    ")\n"
   ]
  },
  {
   "cell_type": "code",
   "execution_count": 22,
   "metadata": {},
   "outputs": [],
   "source": [
    "from fast_carpenter.selection import CutFlow\n",
    "cutflow = CutFlow(\n",
    "    name=\"EventSelection\",\n",
    "    out_dir=OUTPUT_DIR,\n",
    "    selection={\n",
    "        \"All\": [\"NJet >= 2\"],\n",
    "    },\n",
    "    weights= {\"weighted\": \"EventWeight\"},\n",
    ")\n"
   ]
  },
  {
   "cell_type": "code",
   "execution_count": 50,
   "metadata": {},
   "outputs": [],
   "source": [
    "from fast_carpenter.summary import BinnedDataframe\n",
    "jet_pt_hist = BinnedDataframe(\n",
    "    name=\"JetPtHist\",\n",
    "    out_dir=OUTPUT_DIR,\n",
    "    dataset_col=True,\n",
    "    binning=[{'in': 'Jet_Pt', 'out': 'jet_pt_hist', 'bins': {'low': 20, 'high': 200, 'nbins': 90}}],\n",
    "    weights= {\"weighted\": \"EventWeight\"},\n",
    ")"
   ]
  },
  {
   "cell_type": "code",
   "execution_count": 51,
   "metadata": {},
   "outputs": [],
   "source": [
    "sequence = [define_jet_pt, cutflow, jet_pt_hist]"
   ]
  },
  {
   "cell_type": "code",
   "execution_count": 53,
   "metadata": {},
   "outputs": [
    {
     "name": "stdout",
     "output_type": "stream",
     "text": [
      "Trying to overwrite existing variable: Jet_Pt\n"
     ]
    },
    {
     "data": {
      "text/plain": [
       "True"
      ]
     },
     "execution_count": 53,
     "metadata": {},
     "output_type": "execute_result"
    }
   ],
   "source": [
    "define_jet_pt.event(data)"
   ]
  },
  {
   "cell_type": "code",
   "execution_count": 54,
   "metadata": {},
   "outputs": [],
   "source": [
    "cutflow.event(data)"
   ]
  },
  {
   "cell_type": "code",
   "execution_count": 55,
   "metadata": {},
   "outputs": [
    {
     "data": {
      "text/plain": [
       "True"
      ]
     },
     "execution_count": 55,
     "metadata": {},
     "output_type": "execute_result"
    }
   ],
   "source": [
    "jet_pt_hist.event(data)\n"
   ]
  },
  {
   "cell_type": "code",
   "execution_count": 31,
   "metadata": {},
   "outputs": [],
   "source": [
    "collectors = [(s, s.collector()) for s in sequence if hasattr(s, \"collector\")]\n"
   ]
  },
  {
   "cell_type": "code",
   "execution_count": 32,
   "metadata": {},
   "outputs": [
    {
     "data": {
      "text/plain": [
       "[(<fast_carpenter.selection.stage.CutFlow at 0x7fd305147f70>,\n",
       "  <fast_carpenter.selection.stage.Collector at 0x7fd304f95360>),\n",
       " (<fast_carpenter.summary.binned_dataframe.BinnedDataframe at 0x7fd304bad510>,\n",
       "  <fast_carpenter.summary.binned_dataframe.Collector at 0x7fd304f96830>)]"
      ]
     },
     "execution_count": 32,
     "metadata": {},
     "output_type": "execute_result"
    }
   ],
   "source": [
    "collectors"
   ]
  },
  {
   "cell_type": "code",
   "execution_count": 34,
   "metadata": {},
   "outputs": [],
   "source": [
    "a = collectors[0][0].selection"
   ]
  },
  {
   "cell_type": "code",
   "execution_count": 37,
   "metadata": {},
   "outputs": [
    {
     "data": {
      "text/html": [
       "<div>\n",
       "<style scoped>\n",
       "    .dataframe tbody tr th:only-of-type {\n",
       "        vertical-align: middle;\n",
       "    }\n",
       "\n",
       "    .dataframe tbody tr th {\n",
       "        vertical-align: top;\n",
       "    }\n",
       "\n",
       "    .dataframe thead tr th {\n",
       "        text-align: left;\n",
       "    }\n",
       "\n",
       "    .dataframe thead tr:last-of-type th {\n",
       "        text-align: right;\n",
       "    }\n",
       "</style>\n",
       "<table border=\"1\" class=\"dataframe\">\n",
       "  <thead>\n",
       "    <tr>\n",
       "      <th></th>\n",
       "      <th></th>\n",
       "      <th></th>\n",
       "      <th colspan=\"2\" halign=\"left\">passed_only_cut</th>\n",
       "      <th colspan=\"2\" halign=\"left\">passed_incl</th>\n",
       "      <th colspan=\"2\" halign=\"left\">totals_incl</th>\n",
       "    </tr>\n",
       "    <tr>\n",
       "      <th></th>\n",
       "      <th></th>\n",
       "      <th></th>\n",
       "      <th>unweighted</th>\n",
       "      <th>EventWeight</th>\n",
       "      <th>unweighted</th>\n",
       "      <th>EventWeight</th>\n",
       "      <th>unweighted</th>\n",
       "      <th>EventWeight</th>\n",
       "    </tr>\n",
       "    <tr>\n",
       "      <th>unique_id</th>\n",
       "      <th>depth</th>\n",
       "      <th>cut</th>\n",
       "      <th></th>\n",
       "      <th></th>\n",
       "      <th></th>\n",
       "      <th></th>\n",
       "      <th></th>\n",
       "      <th></th>\n",
       "    </tr>\n",
       "  </thead>\n",
       "  <tbody>\n",
       "    <tr>\n",
       "      <th>0</th>\n",
       "      <th>0</th>\n",
       "      <th>All</th>\n",
       "      <td>26599</td>\n",
       "      <td>26599.0</td>\n",
       "      <td>26599</td>\n",
       "      <td>26599.0</td>\n",
       "      <td>469384</td>\n",
       "      <td>469384.0</td>\n",
       "    </tr>\n",
       "    <tr>\n",
       "      <th>0,0</th>\n",
       "      <th>1</th>\n",
       "      <th>NJet &gt;= 2</th>\n",
       "      <td>26599</td>\n",
       "      <td>26599.0</td>\n",
       "      <td>26599</td>\n",
       "      <td>26599.0</td>\n",
       "      <td>469384</td>\n",
       "      <td>469384.0</td>\n",
       "    </tr>\n",
       "  </tbody>\n",
       "</table>\n",
       "</div>"
      ],
      "text/plain": [
       "                          passed_only_cut             passed_incl              \\\n",
       "                               unweighted EventWeight  unweighted EventWeight   \n",
       "unique_id depth cut                                                             \n",
       "0         0     All                 26599     26599.0       26599     26599.0   \n",
       "0,0       1     NJet >= 2           26599     26599.0       26599     26599.0   \n",
       "\n",
       "                          totals_incl              \n",
       "                           unweighted EventWeight  \n",
       "unique_id depth cut                                \n",
       "0         0     All            469384    469384.0  \n",
       "0,0       1     NJet >= 2      469384    469384.0  "
      ]
     },
     "execution_count": 37,
     "metadata": {},
     "output_type": "execute_result"
    }
   ],
   "source": [
    "a.to_dataframe()"
   ]
  },
  {
   "cell_type": "code",
   "execution_count": 41,
   "metadata": {},
   "outputs": [],
   "source": [
    "b = collectors[1][0]\n"
   ]
  },
  {
   "cell_type": "code",
   "execution_count": 47,
   "metadata": {},
   "outputs": [
    {
     "data": {
      "text/plain": [
       "['jet_pt_hist']"
      ]
     },
     "execution_count": 47,
     "metadata": {},
     "output_type": "execute_result"
    }
   ],
   "source": [
    "b._out_bin_dims\n"
   ]
  },
  {
   "cell_type": "code",
   "execution_count": 43,
   "metadata": {},
   "outputs": [
    {
     "data": {
      "text/plain": [
       "[IntervalIndex([[-inf, 20.0), [20.0, 28.166666666666664), [28.166666666666664, 36.33333333333333), [36.33333333333333, 44.5), [44.5, 52.666666666666664) ... [967.3333333333333, 975.4999999999999), [975.4999999999999, 983.6666666666666), [983.6666666666666, 991.8333333333333), [991.8333333333333, 1000.0), [1000.0, inf)], dtype='interval[float64, left]', length=122)]"
      ]
     },
     "execution_count": 43,
     "metadata": {},
     "output_type": "execute_result"
    }
   ],
   "source": [
    "b._binnings"
   ]
  },
  {
   "cell_type": "code",
   "execution_count": 46,
   "metadata": {},
   "outputs": [
    {
     "data": {
      "text/plain": [
       "IntervalIndex([[-inf, 20.0), [20.0, 28.166666666666664), [28.166666666666664, 36.33333333333333), [36.33333333333333, 44.5), [44.5, 52.666666666666664) ... [967.3333333333333, 975.4999999999999), [975.4999999999999, 983.6666666666666), [983.6666666666666, 991.8333333333333), [991.8333333333333, 1000.0), [1000.0, inf)], dtype='interval[float64, left]', length=122)"
      ]
     },
     "execution_count": 46,
     "metadata": {},
     "output_type": "execute_result"
    }
   ],
   "source": [
    "b._binnings[0]"
   ]
  },
  {
   "cell_type": "markdown",
   "metadata": {},
   "source": []
  },
  {
   "cell_type": "code",
   "execution_count": 49,
   "metadata": {},
   "outputs": [
    {
     "data": {
      "text/html": [
       "<div>\n",
       "<style scoped>\n",
       "    .dataframe tbody tr th:only-of-type {\n",
       "        vertical-align: middle;\n",
       "    }\n",
       "\n",
       "    .dataframe tbody tr th {\n",
       "        vertical-align: top;\n",
       "    }\n",
       "\n",
       "    .dataframe thead th {\n",
       "        text-align: right;\n",
       "    }\n",
       "</style>\n",
       "<table border=\"1\" class=\"dataframe\">\n",
       "  <thead>\n",
       "    <tr style=\"text-align: right;\">\n",
       "      <th></th>\n",
       "      <th>n</th>\n",
       "    </tr>\n",
       "    <tr>\n",
       "      <th>jet_pt_hist</th>\n",
       "      <th></th>\n",
       "    </tr>\n",
       "  </thead>\n",
       "  <tbody>\n",
       "    <tr>\n",
       "      <th>[-inf, 20.0)</th>\n",
       "      <td>0</td>\n",
       "    </tr>\n",
       "    <tr>\n",
       "      <th>[20.0, 28.166666666666664)</th>\n",
       "      <td>0</td>\n",
       "    </tr>\n",
       "    <tr>\n",
       "      <th>[28.166666666666664, 36.33333333333333)</th>\n",
       "      <td>36966</td>\n",
       "    </tr>\n",
       "    <tr>\n",
       "      <th>[36.33333333333333, 44.5)</th>\n",
       "      <td>35958</td>\n",
       "    </tr>\n",
       "    <tr>\n",
       "      <th>[44.5, 52.666666666666664)</th>\n",
       "      <td>20805</td>\n",
       "    </tr>\n",
       "    <tr>\n",
       "      <th>...</th>\n",
       "      <td>...</td>\n",
       "    </tr>\n",
       "    <tr>\n",
       "      <th>[967.3333333333333, 975.4999999999999)</th>\n",
       "      <td>0</td>\n",
       "    </tr>\n",
       "    <tr>\n",
       "      <th>[975.4999999999999, 983.6666666666666)</th>\n",
       "      <td>0</td>\n",
       "    </tr>\n",
       "    <tr>\n",
       "      <th>[983.6666666666666, 991.8333333333333)</th>\n",
       "      <td>0</td>\n",
       "    </tr>\n",
       "    <tr>\n",
       "      <th>[991.8333333333333, 1000.0)</th>\n",
       "      <td>0</td>\n",
       "    </tr>\n",
       "    <tr>\n",
       "      <th>[1000.0, inf)</th>\n",
       "      <td>0</td>\n",
       "    </tr>\n",
       "  </tbody>\n",
       "</table>\n",
       "<p>122 rows × 1 columns</p>\n",
       "</div>"
      ],
      "text/plain": [
       "                                             n\n",
       "jet_pt_hist                                   \n",
       "[-inf, 20.0)                                 0\n",
       "[20.0, 28.166666666666664)                   0\n",
       "[28.166666666666664, 36.33333333333333)  36966\n",
       "[36.33333333333333, 44.5)                35958\n",
       "[44.5, 52.666666666666664)               20805\n",
       "...                                        ...\n",
       "[967.3333333333333, 975.4999999999999)       0\n",
       "[975.4999999999999, 983.6666666666666)       0\n",
       "[983.6666666666666, 991.8333333333333)       0\n",
       "[991.8333333333333, 1000.0)                  0\n",
       "[1000.0, inf)                                0\n",
       "\n",
       "[122 rows x 1 columns]"
      ]
     },
     "execution_count": 49,
     "metadata": {},
     "output_type": "execute_result"
    }
   ],
   "source": [
    "b.contents\n"
   ]
  },
  {
   "cell_type": "code",
   "execution_count": null,
   "metadata": {},
   "outputs": [],
   "source": []
  }
 ],
 "metadata": {
  "kernelspec": {
   "display_name": "fast-iris",
   "language": "python",
   "name": "python3"
  },
  "language_info": {
   "codemirror_mode": {
    "name": "ipython",
    "version": 3
   },
   "file_extension": ".py",
   "mimetype": "text/x-python",
   "name": "python",
   "nbconvert_exporter": "python",
   "pygments_lexer": "ipython3",
   "version": "3.10.8"
  },
  "orig_nbformat": 4,
  "vscode": {
   "interpreter": {
    "hash": "961e55fcb8288b68f7f3fae7e2a1f3f40f61db6c3956f7fd656d668245f6ab9e"
   }
  }
 },
 "nbformat": 4,
 "nbformat_minor": 2
}
